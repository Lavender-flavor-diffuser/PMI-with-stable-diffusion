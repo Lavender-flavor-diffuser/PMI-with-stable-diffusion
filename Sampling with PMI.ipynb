{
 "cells": [
  {
   "cell_type": "code",
   "execution_count": null,
   "metadata": {
    "vscode": {
     "languageId": "plaintext"
    }
   },
   "outputs": [],
   "source": [
    "# Creating sample (정확한 parser information은 공식문서나 README 참고)\n",
    "# --scale: classifier guidance strength를 결정 (Default 7.5)\n",
    "# --ddim_steps: 얼마나 ddim sampling을 할 것인지 (Default 20)\n",
    "# --n_samples: 한 iteration 당 얼마나 sample을 생성할 것인지\n",
    "# --n_iter: 몇 번 반복할 것인지\n",
    "\n",
    "!python ./scripts/txt2img.py --prompt \"Ann Graham Lotz\" --n_samples 5 --n_iter 4 --ddim_steps 100 --scale=7.5"
   ]
  },
  {
   "cell_type": "code",
   "execution_count": null,
   "metadata": {
    "vscode": {
     "languageId": "plaintext"
    }
   },
   "outputs": [],
   "source": [
    "import numpy as np\n",
    "import matplotlib.pyplot as plt\n",
    "import torch\n",
    "\n",
    "prompt = 'Ann Graham Lotz'\n",
    "ddim_steps = 100\n",
    "total_iter_num = 4\n",
    "total_sample_num = 5\n",
    "scale = 7.5\n",
    "\n",
    "def symmetric_log_transform(x, linthresh=0.01):\n",
    "    return np.sign(x) * np.log1p(np.abs(x) / linthresh)"
   ]
  },
  {
   "cell_type": "code",
   "execution_count": null,
   "metadata": {
    "vscode": {
     "languageId": "plaintext"
    }
   },
   "outputs": [],
   "source": [
    "# 개별 PMI 그리는 용도\n",
    "\n",
    "for iter_num in range(total_iter_num):\n",
    "    for sample_num in range(total_sample_num):\n",
    "        # 저장된 파일 경로\n",
    "        file_path = f'./outputs/PMI_query_{prompt}_iter_num_{iter_num}_sample_num_{sample_num}.pt'\n",
    "        \n",
    "        # 텐서 로드\n",
    "        est_list = torch.load(file_path)\n",
    "        est_list = symmetric_log_transform(est_list)\n",
    "        \n",
    "        time_steps = list(range(1000, 1000//ddim_steps - 1, - 1000//ddim_steps))  # 시간 단계 리스트\n",
    "        plt.plot(time_steps, est_list, label=f'Sample {5 * iter_num + sample_num + 1}')\n",
    "        \n",
    "        plt.xlabel('Time Steps')\n",
    "        plt.ylabel('PMI (log scale)')\n",
    "        plt.legend()\n",
    "        \n",
    "        # 그래프를 파일로 저장\n",
    "        plt.savefig(f'./outputs/PMI_Graph_prompt_{prompt}_ddim_step_{ddim_steps}_scale_{scale}_sample_num_{sample_num + 5 * iter_num + 1}.png')\n",
    "        \n",
    "        # plt.show() 대신 사용하여 저장\n",
    "        plt.close()  # 그래프 창 닫기"
   ]
  },
  {
   "cell_type": "code",
   "execution_count": null,
   "metadata": {
    "vscode": {
     "languageId": "plaintext"
    }
   },
   "outputs": [],
   "source": [
    "# iter 마다 PMI 그리는 용도\n",
    "\n",
    "for iter_num in range(total_iter_num):\n",
    "    plt.figure()  # 새로운 플롯 생성\n",
    "    \n",
    "    for sample_num in range(total_sample_num):\n",
    "        # 저장된 파일 경로\n",
    "        file_path = f'./outputs/PMI_query_{prompt}_iter_num_{iter_num}_sample_num_{sample_num}.pt'\n",
    "        \n",
    "        # 텐서 로드 및 변환\n",
    "        est_list = torch.load(file_path)\n",
    "        est_list = symmetric_log_transform(est_list)\n",
    "        \n",
    "        # 시간 단계 리스트\n",
    "        time_steps = list(range(1000, 1000 // ddim_steps - 1, -1000 // ddim_steps))\n",
    "        \n",
    "        # 데이터를 그래프에 추가\n",
    "        plt.plot(time_steps, est_list, label=f'Sample {5 * iter_num + sample_num + 1}')\n",
    "    \n",
    "    # 축 레이블 설정\n",
    "    plt.xlabel('Time Steps')\n",
    "    plt.ylabel('PMI (log scale)')\n",
    "    \n",
    "    # 범례 표시\n",
    "    plt.legend()\n",
    "    \n",
    "    # 그래프를 파일로 저장\n",
    "    plt.savefig(f'./outputs/PMI_Graph_prompt_{prompt}_ddim_step_{ddim_steps}_scale_{scale}_iter_{iter_num}.png')\n",
    "    \n",
    "    # 그래프 창 닫기\n",
    "    plt.close()"
   ]
  },
  {
   "cell_type": "code",
   "execution_count": null,
   "metadata": {
    "vscode": {
     "languageId": "plaintext"
    }
   },
   "outputs": [],
   "source": [
    "# 모든 PMI를 그리는 용도\n",
    "\n",
    "for iter_num in range(total_iter_num):\n",
    "    for sample_num in range(total_sample_num):\n",
    "        # 저장된 파일 경로\n",
    "        file_path = f'./outputs/PMI_query_{prompt}_iter_num_{iter_num}_sample_num_{sample_num}.pt'\n",
    "        \n",
    "        # 텐서 로드 및 변환\n",
    "        est_list = torch.load(file_path)\n",
    "        est_list = symmetric_log_transform(est_list)\n",
    "        \n",
    "        # 시간 단계 리스트\n",
    "        time_steps = list(range(1000, 1000 // ddim_steps - 1, -1000 // ddim_steps))\n",
    "        \n",
    "        # 데이터를 그래프에 추가\n",
    "        plt.plot(time_steps, est_list)\n",
    "\n",
    "# 축 레이블 설정\n",
    "plt.xlabel('Time Steps')\n",
    "plt.ylabel('PMI (log scale)')\n",
    "\n",
    "# 범례 표시\n",
    "plt.legend()\n",
    "\n",
    "# 그래프를 파일로 저장\n",
    "plt.savefig(f'./outputs/PMI_Graph_prompt_{prompt}_ddim_step_{ddim_steps}_scale_{scale}_all.png')\n",
    "\n",
    "# 그래프 표시\n",
    "plt.show()"
   ]
  }
 ],
 "metadata": {
  "language_info": {
   "name": "python"
  }
 },
 "nbformat": 4,
 "nbformat_minor": 2
}
