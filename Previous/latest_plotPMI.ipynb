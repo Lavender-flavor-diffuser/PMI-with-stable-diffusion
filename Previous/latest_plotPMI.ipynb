{
 "cells": [
  {
   "cell_type": "code",
   "execution_count": null,
   "metadata": {},
   "outputs": [],
   "source": [
    "import numpy as np\n",
    "import matplotlib.pyplot as plt\n",
    "import torch\n",
    "\n",
    "iter_num = 2\n",
    "sample_num = 4\n",
    "prompt = 'wise happy scientist'\n",
    "\n",
    "# 저장된 파일 경로\n",
    "file_path = f'../outputs/PMI_query_{prompt}_iter_num_{iter_num}_sample_num_{sample_num}.pt'\n",
    "\n",
    "# 텐서 로드\n",
    "est_list = torch.load(file_path)\n",
    "\n",
    "time_steps = list(range(1000, 50 - 1, -50))  # 시간 단계 리스트\n",
    "plt.plot(time_steps, est_list, label=f'Index {sample_num + 5 * iter_num}')\n",
    "\n",
    "plt.xlabel('Time Steps')\n",
    "plt.ylabel('PMI')\n",
    "plt.title(f'PMI along Generation for Ann Graham Lotz')\n",
    "plt.legend()\n",
    "\n",
    "# 그래프를 파일로 저장\n",
    "plt.savefig(f'../outputs/PMI_Graph_sample_{sample_num + 5 * iter_num}.png')\n",
    "\n",
    "# plt.show() 대신 사용하여 저장\n",
    "plt.close()  # 그래프 창 닫기"
   ]
  }
 ],
 "metadata": {
  "kernelspec": {
   "display_name": "Python 3",
   "language": "python",
   "name": "python3"
  },
  "language_info": {
   "codemirror_mode": {
    "name": "ipython",
    "version": 3
   },
   "file_extension": ".py",
   "mimetype": "text/x-python",
   "name": "python",
   "nbconvert_exporter": "python",
   "pygments_lexer": "ipython3",
   "version": "3.8.5"
  }
 },
 "nbformat": 4,
 "nbformat_minor": 2
}
