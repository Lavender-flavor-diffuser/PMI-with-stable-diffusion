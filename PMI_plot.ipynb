{
 "cells": [
  {
   "cell_type": "code",
   "execution_count": null,
   "metadata": {
    "vscode": {
     "languageId": "plaintext"
    }
   },
   "outputs": [],
   "source": [
    "import numpy as np\n",
    "import matplotlib.pyplot as plt\n",
    "import torch\n",
    "\n",
    "iter_num = 2\n",
    "sample_num = 3\n",
    "prompt = 'Ann Graham Lotz'\n",
    "\n",
    "def symmetric_log_transform(x, linthresh=0.01):\n",
    "    return np.sign(x) * np.log1p(np.abs(x) / linthresh)\n",
    "\n",
    "# 저장된 파일 경로\n",
    "file_path = f'../outputs/PMI_query_{prompt}_iter_num_{iter_num}_sample_num_{sample_num}.pt'\n",
    "\n",
    "# 텐서 로드\n",
    "est_list = torch.load(file_path)\n",
    "est_list = symmetric_log_transform(est_list)\n",
    "\n",
    "time_steps = list(range(1000, 50 - 1, -50))  # 시간 단계 리스트\n",
    "plt.plot(time_steps, est_list, label=f'Index {sample_num + 5 * iter_num}')\n",
    "\n",
    "plt.xlabel('Time Steps')\n",
    "plt.ylabel('PMI')\n",
    "plt.title(f'PMI along Generation for {prompt}')\n",
    "plt.legend()\n",
    "\n",
    "# 그래프를 파일로 저장\n",
    "plt.savefig(f'../outputs/PMI_Graph_sample_{sample_num + 5 * iter_num}.png')\n",
    "\n",
    "# plt.show() 대신 사용하여 저장\n",
    "plt.close()  # 그래프 창 닫기"
   ]
  }
 ],
 "metadata": {
  "language_info": {
   "name": "python"
  }
 },
 "nbformat": 4,
 "nbformat_minor": 2
}
